{
 "cells": [
  {
   "cell_type": "code",
   "execution_count": 1,
   "metadata": {},
   "outputs": [],
   "source": [
    "import numpy as np\n",
    "import matplotlib.pyplot as plt\n",
    "# from constant_utils import *"
   ]
  },
  {
   "cell_type": "code",
   "execution_count": 47,
   "metadata": {},
   "outputs": [
    {
     "ename": "FileNotFoundError",
     "evalue": "[Errno 2] No such file or directory: '/hhd3/ld/data/Painter_root/ade20k_semantic/reimp_PGD10_8/attack_AC/img2_prompt.npy'",
     "output_type": "error",
     "traceback": [
      "\u001b[0;31m---------------------------------------------------------------------------\u001b[0m",
      "\u001b[0;31mFileNotFoundError\u001b[0m                         Traceback (most recent call last)",
      "Cell \u001b[0;32mIn[47], line 21\u001b[0m\n\u001b[1;32m     12\u001b[0m i \u001b[39m=\u001b[39m \u001b[39m10\u001b[39m\n\u001b[1;32m     15\u001b[0m \u001b[39m# img_2 = np.load(f'/hhd3/ld/data/Painter_root/{task}/reimp_PGD10_8/{attack_id}/img2_prompt_{i}.npy')\u001b[39;00m\n\u001b[1;32m     16\u001b[0m \u001b[39m# img_2_adv = np.load(f'/hhd3/ld/data/Painter_root/{task}/reimp_PGD10_8/{attack_id}/img2_prompt_{i}_adv.npy') \u001b[39;00m\n\u001b[1;32m     17\u001b[0m \u001b[39m# tgt_2 = np.load(f'/hhd3/ld/data/Painter_root/{task}/reimp_PGD10_8/{attack_id}/tgt2_prompt_{i}.npy') \u001b[39;00m\n\u001b[1;32m     18\u001b[0m \u001b[39m# tgt_2_adv = np.load(f'/hhd3/ld/data/Painter_root/{task}/reimp_PGD10_8/{attack_id}/tgt2_prompt_{i}_adv.npy') \u001b[39;00m\n\u001b[0;32m---> 21\u001b[0m img_2 \u001b[39m=\u001b[39m np\u001b[39m.\u001b[39;49mload(\u001b[39mf\u001b[39;49m\u001b[39m'\u001b[39;49m\u001b[39m/hhd3/ld/data/Painter_root/\u001b[39;49m\u001b[39m{\u001b[39;49;00mtask\u001b[39m}\u001b[39;49;00m\u001b[39m/reimp_PGD10_8/\u001b[39;49m\u001b[39m{\u001b[39;49;00mattack_id\u001b[39m}\u001b[39;49;00m\u001b[39m/img2_prompt.npy\u001b[39;49m\u001b[39m'\u001b[39;49m)\n\u001b[1;32m     22\u001b[0m img_2_adv \u001b[39m=\u001b[39m np\u001b[39m.\u001b[39mload(\u001b[39mf\u001b[39m\u001b[39m'\u001b[39m\u001b[39m/hhd3/ld/data/Painter_root/\u001b[39m\u001b[39m{\u001b[39;00mtask\u001b[39m}\u001b[39;00m\u001b[39m/reimp_PGD10_8/\u001b[39m\u001b[39m{\u001b[39;00mattack_id\u001b[39m}\u001b[39;00m\u001b[39m/img2_prompt_adv.npy\u001b[39m\u001b[39m'\u001b[39m) \n\u001b[1;32m     23\u001b[0m tgt_2 \u001b[39m=\u001b[39m np\u001b[39m.\u001b[39mload(\u001b[39mf\u001b[39m\u001b[39m'\u001b[39m\u001b[39m/hhd3/ld/data/Painter_root/\u001b[39m\u001b[39m{\u001b[39;00mtask\u001b[39m}\u001b[39;00m\u001b[39m/reimp_PGD10_8/\u001b[39m\u001b[39m{\u001b[39;00mattack_id\u001b[39m}\u001b[39;00m\u001b[39m/tgt2_prompt.npy\u001b[39m\u001b[39m'\u001b[39m) \n",
      "File \u001b[0;32m~/anaconda3/envs/painter/lib/python3.8/site-packages/numpy/lib/npyio.py:405\u001b[0m, in \u001b[0;36mload\u001b[0;34m(file, mmap_mode, allow_pickle, fix_imports, encoding, max_header_size)\u001b[0m\n\u001b[1;32m    403\u001b[0m     own_fid \u001b[39m=\u001b[39m \u001b[39mFalse\u001b[39;00m\n\u001b[1;32m    404\u001b[0m \u001b[39melse\u001b[39;00m:\n\u001b[0;32m--> 405\u001b[0m     fid \u001b[39m=\u001b[39m stack\u001b[39m.\u001b[39menter_context(\u001b[39mopen\u001b[39;49m(os_fspath(file), \u001b[39m\"\u001b[39;49m\u001b[39mrb\u001b[39;49m\u001b[39m\"\u001b[39;49m))\n\u001b[1;32m    406\u001b[0m     own_fid \u001b[39m=\u001b[39m \u001b[39mTrue\u001b[39;00m\n\u001b[1;32m    408\u001b[0m \u001b[39m# Code to distinguish from NumPy binary files and pickles.\u001b[39;00m\n",
      "\u001b[0;31mFileNotFoundError\u001b[0m: [Errno 2] No such file or directory: '/hhd3/ld/data/Painter_root/ade20k_semantic/reimp_PGD10_8/attack_AC/img2_prompt.npy'"
     ]
    }
   ],
   "source": [
    "\n",
    "# task = 'nyu_depth'\n",
    "# task = 'ade20k_semantic'\n",
    "task = 'lol_enhance'\n",
    "\n",
    "# attack_id = 'none'\n",
    "attack_id = 'attack_A'\n",
    "# attack_id = 'attack_B'\n",
    "# attack_id = 'attack_C'\n",
    "# attack_id = 'attack_AB'\n",
    "# attack_id = 'attack_AC'\n",
    "\n",
    "epsilon = 8\n",
    "i = 10\n",
    "\n",
    "\n",
    "# img_2 = np.load(f'/hhd3/ld/data/Painter_root/{task}/reimp_PGD10_8/{attack_id}/img2_prompt_{i}.npy')\n",
    "# img_2_adv = np.load(f'/hhd3/ld/data/Painter_root/{task}/reimp_PGD10_8/{attack_id}/img2_prompt_{i}_adv.npy') \n",
    "# tgt_2 = np.load(f'/hhd3/ld/data/Painter_root/{task}/reimp_PGD10_8/{attack_id}/tgt2_prompt_{i}.npy') \n",
    "# tgt_2_adv = np.load(f'/hhd3/ld/data/Painter_root/{task}/reimp_PGD10_8/{attack_id}/tgt2_prompt_{i}_adv.npy') \n",
    "\n",
    "\n",
    "img_2 = np.load(f'/hhd3/ld/data/Painter_root/{task}/reimp_PGD10_8/{attack_id}/img2_prompt.npy')\n",
    "img_2_adv = np.load(f'/hhd3/ld/data/Painter_root/{task}/reimp_PGD10_8/{attack_id}/img2_prompt_adv.npy') \n",
    "tgt_2 = np.load(f'/hhd3/ld/data/Painter_root/{task}/reimp_PGD10_8/{attack_id}/tgt2_prompt.npy') \n",
    "tgt_2_adv = np.load(f'/hhd3/ld/data/Painter_root/{task}/reimp_PGD10_8/{attack_id}/tgt2_prompt_adv.npy') \n",
    "\n",
    "\n",
    "test_img = np.concatenate((img_2, tgt_2, img_2_adv, tgt_2_adv), axis=1)\n",
    "plt.axis('off')\n",
    "plt.title(f'{attack_id}: perturbation={epsilon}/255')\n",
    "plt.imshow(test_img)\n",
    "\n",
    "# plt.savefig()"
   ]
  },
  {
   "cell_type": "code",
   "execution_count": 44,
   "metadata": {},
   "outputs": [
    {
     "name": "stdout",
     "output_type": "stream",
     "text": [
      "0.0 0.4549019607843137 0.0 0.45098039215686275\n",
      "0.00392156862745098 0.9882352941176471 0.00392156862745098 0.9882352941176471\n",
      "-0.03137254901960784 0.03137254901960787 True False\n",
      "0.0 0.0 True True\n"
     ]
    }
   ],
   "source": [
    "print('%%DATA range, check whether in [0,1]:')\n",
    "print(img_2.min(), img_2.max(), img_2_adv.min(), img_2_adv.max())\n",
    "print(tgt_2.min(), tgt_2.max(), tgt_2_adv.min(), tgt_2_adv.max())\n",
    "print('%%ADV range, check whether in [-epsilon, epsilon]:')\n",
    "print((img_2_adv - img_2).min(), (img_2_adv - img_2).max(),(img_2_adv - img_2).min() >= -epsilon/255, (img_2_adv - img_2).max() <= epsilon/255)\n",
    "print((tgt_2_adv - tgt_2).min(), (tgt_2_adv - tgt_2).max(),(tgt_2_adv - tgt_2).min() >= -epsilon/255, (tgt_2_adv - tgt_2).max() <= epsilon/255)"
   ]
  },
  {
   "cell_type": "code",
   "execution_count": 45,
   "metadata": {},
   "outputs": [
    {
     "data": {
      "text/plain": [
       "array([[[ 2.74509804e-02, -7.60818553e-03,  3.13725490e-02],\n",
       "        [-3.92156863e-03,  3.13725490e-02,  1.17647059e-02],\n",
       "        [ 3.13725490e-02,  2.35294118e-02,  7.84313725e-03],\n",
       "        ...,\n",
       "        [ 7.84313725e-03,  3.13725490e-02,  7.84313725e-03],\n",
       "        [ 0.00000000e+00,  3.13725490e-02,  2.35294118e-02],\n",
       "        [ 1.17647059e-02,  2.14090720e-02,  3.13725490e-02]],\n",
       "\n",
       "       [[ 3.13725490e-02,  7.84313725e-03, -3.92156863e-03],\n",
       "        [ 0.00000000e+00,  3.13725490e-02,  3.13725490e-02],\n",
       "        [ 3.92156863e-03,  3.92156863e-03,  7.84313725e-03],\n",
       "        ...,\n",
       "        [ 1.49095580e-02,  1.17647059e-02,  3.92156863e-03],\n",
       "        [ 2.35294118e-02,  2.22501755e-02,  0.00000000e+00],\n",
       "        [ 1.56862745e-02,  3.13725490e-02,  2.63316985e-02]],\n",
       "\n",
       "       [[ 3.01486633e-02, -3.92156863e-03,  0.00000000e+00],\n",
       "        [ 7.84313725e-03,  1.56862745e-02,  2.35294118e-02],\n",
       "        [ 3.13725490e-02,  3.13725490e-02,  2.35294118e-02],\n",
       "        ...,\n",
       "        [ 1.21817021e-02,  1.17647059e-02,  1.56862745e-02],\n",
       "        [ 0.00000000e+00,  1.23051619e-02,  3.92156863e-03],\n",
       "        [ 7.84313725e-03, -3.92156863e-03,  1.56862745e-02]],\n",
       "\n",
       "       ...,\n",
       "\n",
       "       [[-3.92156863e-03, -1.17647059e-02,  2.76653366e-02],\n",
       "        [ 0.00000000e+00,  2.35294118e-02, -6.83910865e-03],\n",
       "        [-1.17647059e-02,  1.96078431e-02,  3.13725490e-02],\n",
       "        ...,\n",
       "        [-2.35294118e-02,  3.79601028e-03,  3.13725490e-02],\n",
       "        [-3.13725490e-02,  5.55111512e-17, -2.35294118e-02],\n",
       "        [ 3.13725490e-02,  3.06869503e-02, -2.35294118e-02]],\n",
       "\n",
       "       [[ 1.06281172e-02, -1.96078431e-02, -7.31995889e-03],\n",
       "        [ 7.84313725e-03,  7.84313725e-03,  3.13725490e-02],\n",
       "        [ 1.56862745e-02,  2.35294118e-02,  3.13725490e-02],\n",
       "        ...,\n",
       "        [-1.80940526e-02, -2.35294118e-02,  4.47629672e-03],\n",
       "        [ 1.56862745e-02,  1.46532453e-02,  3.13725490e-02],\n",
       "        [-3.13725490e-02, -2.55742506e-03,  3.13725490e-02]],\n",
       "\n",
       "       [[ 3.92156863e-03,  2.46993694e-02,  1.29634542e-02],\n",
       "        [ 7.84313725e-03,  7.84313725e-03, -1.34036830e-02],\n",
       "        [ 7.84313725e-03, -1.17647059e-02, -2.99857667e-04],\n",
       "        ...,\n",
       "        [ 7.84313725e-03, -2.08533071e-02,  5.51935192e-03],\n",
       "        [-8.80292337e-03,  1.04280771e-02, -4.07045149e-03],\n",
       "        [ 3.15789599e-03,  3.13725490e-02,  6.05844241e-03]]])"
      ]
     },
     "execution_count": 45,
     "metadata": {},
     "output_type": "execute_result"
    }
   ],
   "source": [
    "img_2_adv - img_2"
   ]
  },
  {
   "cell_type": "code",
   "execution_count": 46,
   "metadata": {},
   "outputs": [
    {
     "data": {
      "text/plain": [
       "array([[[0., 0., 0.],\n",
       "        [0., 0., 0.],\n",
       "        [0., 0., 0.],\n",
       "        ...,\n",
       "        [0., 0., 0.],\n",
       "        [0., 0., 0.],\n",
       "        [0., 0., 0.]],\n",
       "\n",
       "       [[0., 0., 0.],\n",
       "        [0., 0., 0.],\n",
       "        [0., 0., 0.],\n",
       "        ...,\n",
       "        [0., 0., 0.],\n",
       "        [0., 0., 0.],\n",
       "        [0., 0., 0.]],\n",
       "\n",
       "       [[0., 0., 0.],\n",
       "        [0., 0., 0.],\n",
       "        [0., 0., 0.],\n",
       "        ...,\n",
       "        [0., 0., 0.],\n",
       "        [0., 0., 0.],\n",
       "        [0., 0., 0.]],\n",
       "\n",
       "       ...,\n",
       "\n",
       "       [[0., 0., 0.],\n",
       "        [0., 0., 0.],\n",
       "        [0., 0., 0.],\n",
       "        ...,\n",
       "        [0., 0., 0.],\n",
       "        [0., 0., 0.],\n",
       "        [0., 0., 0.]],\n",
       "\n",
       "       [[0., 0., 0.],\n",
       "        [0., 0., 0.],\n",
       "        [0., 0., 0.],\n",
       "        ...,\n",
       "        [0., 0., 0.],\n",
       "        [0., 0., 0.],\n",
       "        [0., 0., 0.]],\n",
       "\n",
       "       [[0., 0., 0.],\n",
       "        [0., 0., 0.],\n",
       "        [0., 0., 0.],\n",
       "        ...,\n",
       "        [0., 0., 0.],\n",
       "        [0., 0., 0.],\n",
       "        [0., 0., 0.]]])"
      ]
     },
     "execution_count": 46,
     "metadata": {},
     "output_type": "execute_result"
    }
   ],
   "source": [
    "tgt_2_adv - tgt_2"
   ]
  },
  {
   "cell_type": "code",
   "execution_count": null,
   "metadata": {},
   "outputs": [],
   "source": []
  },
  {
   "cell_type": "code",
   "execution_count": null,
   "metadata": {},
   "outputs": [],
   "source": []
  },
  {
   "cell_type": "code",
   "execution_count": null,
   "metadata": {},
   "outputs": [],
   "source": []
  }
 ],
 "metadata": {
  "kernelspec": {
   "display_name": "painter",
   "language": "python",
   "name": "python3"
  },
  "language_info": {
   "codemirror_mode": {
    "name": "ipython",
    "version": 3
   },
   "file_extension": ".py",
   "mimetype": "text/x-python",
   "name": "python",
   "nbconvert_exporter": "python",
   "pygments_lexer": "ipython3",
   "version": "3.8.16"
  },
  "orig_nbformat": 4
 },
 "nbformat": 4,
 "nbformat_minor": 2
}
