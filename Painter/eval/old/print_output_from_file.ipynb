{
 "cells": [
  {
   "cell_type": "code",
   "execution_count": null,
   "metadata": {},
   "outputs": [],
   "source": []
  },
  {
   "attachments": {},
   "cell_type": "markdown",
   "metadata": {},
   "source": [
    "### NYU"
   ]
  },
  {
   "attachments": {},
   "cell_type": "markdown",
   "metadata": {},
   "source": [
    "#### Component"
   ]
  },
  {
   "cell_type": "code",
   "execution_count": 44,
   "metadata": {},
   "outputs": [
    {
     "name": "stdout",
     "output_type": "stream",
     "text": [
      "------------nyuv2------------\n",
      "POS_A_mask_A: RMSE:0.29, AbsRel:0.079, d1:0.95\n",
      "POS_B_mask_B: RMSE:0.351, AbsRel:0.094, d1:0.937\n",
      "POS_AB_mask_AB: RMSE:0.573, AbsRel:0.168, d1:0.873\n",
      "POS_A_random_A_same_task: RMSE:0.287, AbsRel:0.08, d1:0.95\n",
      "POS_B_random_B_same_task: RMSE:0.287, AbsRel:0.08, d1:0.95\n",
      "POS_A_random_A_other_task: RMSE:0.288, AbsRel:0.08, d1:0.95\n",
      "POS_B_random_B_other_task: RMSE:3.424, AbsRel:1.557, d1:0.153\n",
      "POS_A_animeGAN_A: RMSE:0.287, AbsRel:0.08, d1:0.95\n",
      "POS_B_animeGAN_B: RMSE:0.29, AbsRel:0.081, d1:0.947\n",
      "POS_AB_animeGAN_AB: RMSE:0.293, AbsRel:0.082, d1:0.946\n"
     ]
    }
   ],
   "source": [
    "import ast\n",
    "import glob\n",
    "\n",
    "def get_out_of_ADE_component():\n",
    "    task = 'nyuv2'\n",
    "    out = glob.glob(f'/hhd3/ld/painter_output/{task}/component_analysis/*/results.txt')\n",
    "\n",
    "    outdict = {}\n",
    "    print(f'------------{task}------------')\n",
    "    for i in out:\n",
    "        id = i.split('/')[-2]\n",
    "        # print(id)\n",
    "        outdict[id] = {}\n",
    "        with open(i, 'r') as f:\n",
    "            lines = f.readlines()\n",
    "\n",
    "            res = lines[1].strip().split(',')\n",
    "            # print(res)\n",
    "\n",
    "            outdict[id]['d1'] = round(float(res[0]),3)\n",
    "            outdict[id]['AbsRel'] = round(float(res[3]),3)\n",
    "            outdict[id]['RMSE'] = round(float(res[5]),3)\n",
    "\n",
    "            # for line in lines:\n",
    "            #     # print(line.strip())\n",
    "            #     line = line.split(',')\n",
    "                \n",
    "                # print(line)\n",
    "            # line2 = \n",
    "            # print(line1, line2)\n",
    "\n",
    "    for i in ['POS_A_mask_A',\n",
    "                    'POS_B_mask_B',\n",
    "                    'POS_AB_mask_AB',\n",
    "                    'POS_A_random_A_same_task',\n",
    "                    'POS_B_random_B_same_task',\n",
    "                    'POS_A_random_A_other_task',\n",
    "                    'POS_B_random_B_other_task',\n",
    "                    'POS_A_animeGAN_A',\n",
    "                    'POS_B_animeGAN_B',\n",
    "                    'POS_AB_animeGAN_AB']:\n",
    "            \n",
    "            res = outdict[i]\n",
    "            out = f\"RMSE:{res['RMSE']}, AbsRel:{res['AbsRel']}, d1:{res['d1']}\"\n",
    "\n",
    "\n",
    "            print(f'{i}: {out}')\n",
    "            # break\n",
    "\n",
    "get_out_of_ADE_component()"
   ]
  },
  {
   "attachments": {},
   "cell_type": "markdown",
   "metadata": {},
   "source": [
    "#### Attack"
   ]
  },
  {
   "cell_type": "code",
   "execution_count": 6,
   "metadata": {},
   "outputs": [
    {
     "name": "stdout",
     "output_type": "stream",
     "text": [
      "------------nyuv2: attack_baseline_ep2------------\n",
      "attack_A: RMSE:0.406, AbsRel:0.132, d1:0.88\n",
      "attack_A: 0.406, 0.132, 0.88\n",
      "attack_B: RMSE:0.441, AbsRel:0.145, d1:0.861\n",
      "attack_B: 0.441, 0.145, 0.861\n",
      "attack_C: RMSE:2.862, AbsRel:1.076, d1:0.05\n",
      "attack_C: 2.862, 1.076, 0.05\n",
      "attack_AB: RMSE:1.135, AbsRel:0.443, d1:0.628\n",
      "attack_AB: 1.135, 0.443, 0.628\n",
      "attack_AC: RMSE:3.329, AbsRel:1.279, d1:0.049\n",
      "attack_AC: 3.329, 1.279, 0.049\n",
      "attack_BC: RMSE:3.7, AbsRel:1.519, d1:0.094\n",
      "attack_BC: 3.7, 1.519, 0.094\n",
      "attack_ABC: RMSE:3.872, AbsRel:1.647, d1:0.108\n",
      "attack_ABC: 3.872, 1.647, 0.108\n"
     ]
    }
   ],
   "source": [
    "import ast\n",
    "import glob\n",
    "\n",
    "def get_out_of_ADE(analysis):\n",
    "    task = 'nyuv2'\n",
    "    out = glob.glob(f'/hhd3/ld/painter_output/{task}/{analysis}/PGD10_2/*/results.txt')\n",
    "\n",
    "    outdict = {}\n",
    "\n",
    "    print(f'------------{task}: {analysis}------------')\n",
    "    for i in out:\n",
    "        # print(i)\n",
    "        id = i.split('/')[-2]\n",
    "        # print(id)\n",
    "        outdict[id] = {}\n",
    "        with open(i, 'r') as f:\n",
    "            lines = f.readlines()\n",
    "            res = lines[1].strip().split(',')\n",
    "            outdict[id]['d1'] = round(float(res[0]),3)\n",
    "            outdict[id]['AbsRel'] = round(float(res[3]),3)\n",
    "            outdict[id]['RMSE'] = round(float(res[5]),3)\n",
    "\n",
    "    for i in ['attack_A', 'attack_B', 'attack_C', 'attack_AB', 'attack_AC', 'attack_BC', 'attack_ABC']:\n",
    "        if i in outdict:\n",
    "            res = outdict[i]\n",
    "            out = f\"RMSE:{res['RMSE']}, AbsRel:{res['AbsRel']}, d1:{res['d1']}\"\n",
    "            out1 = f\"{res['RMSE']}, {res['AbsRel']}, {res['d1']}\"\n",
    "            print(f'{i}: {out}')\n",
    "            print(f'{i}: {out1}')\n",
    "\n",
    "\n",
    "# for ANALYSIS in ['attack_baseline', 'attack_baseline_changeA', 'attack_baseline_changeB']:\n",
    "# for ANALYSIS in ['attack_baseline_1', 'attack_baseline_2']:\n",
    "# for ANALYSIS in ['attack_baseline_changeA_1', 'attack_baseline_changeB_1']:\n",
    "for ANALYSIS in ['attack_baseline_ep2']:\n",
    "    get_out_of_ADE(ANALYSIS)\n"
   ]
  },
  {
   "attachments": {},
   "cell_type": "markdown",
   "metadata": {},
   "source": [
    "### ADE20k"
   ]
  },
  {
   "cell_type": "markdown",
   "metadata": {},
   "source": []
  },
  {
   "attachments": {},
   "cell_type": "markdown",
   "metadata": {},
   "source": [
    "#### Component"
   ]
  },
  {
   "cell_type": "code",
   "execution_count": 20,
   "metadata": {},
   "outputs": [
    {
     "name": "stdout",
     "output_type": "stream",
     "text": [
      "POS_A_mask_A: 49.4\n",
      "POS_B_mask_B: 47.0\n",
      "POS_AB_mask_AB: 17.4\n",
      "POS_A_random_A_same_task: 49.6\n",
      "POS_B_random_B_same_task: 49.9\n",
      "POS_A_random_A_other_task: 48.4\n",
      "POS_B_random_B_other_task: 13.3\n",
      "POS_A_animeGAN_A: 49.8\n",
      "POS_B_animeGAN_B: 29.4\n",
      "POS_AB_animeGAN_AB: 24.7\n"
     ]
    }
   ],
   "source": [
    "import ast\n",
    "import glob\n",
    "\n",
    "def get_out_of_ADE_component():\n",
    "    out = glob.glob(f'/hhd3/ld/painter_output/ade20k/component_analysis/*/output/eval_ade20k_default/results.txt')\n",
    "\n",
    "    outdict = {}\n",
    "\n",
    "    for i in out:\n",
    "        id = i.split('/')[-4]\n",
    "        # print(id)\n",
    "        with open(i, 'r') as f:\n",
    "            lines = f.readlines()\n",
    "            for line in lines:\n",
    "                if 'OrderedDict' in line:\n",
    "                    pass\n",
    "                else:\n",
    "                    d = ast.literal_eval(line)\n",
    "                    # print(d)\n",
    "                    # print(f'{id}:' +  str(round(d['mIoU'], 1)))\n",
    "                    outdict[id] = round(d['mIoU'], 1)\n",
    "                # break\n",
    "\n",
    "    for i in ['POS_A_mask_A',\n",
    "                'POS_B_mask_B',\n",
    "                'POS_AB_mask_AB',\n",
    "                'POS_A_random_A_same_task',\n",
    "                'POS_B_random_B_same_task',\n",
    "                'POS_A_random_A_other_task',\n",
    "                'POS_B_random_B_other_task',\n",
    "                'POS_A_animeGAN_A',\n",
    "                'POS_B_animeGAN_B',\n",
    "                'POS_AB_animeGAN_AB']:\n",
    "        print(f'{i}: {outdict[i]}')\n",
    "        # break\n",
    "\n",
    "\n",
    "get_out_of_ADE_component()\n"
   ]
  },
  {
   "attachments": {},
   "cell_type": "markdown",
   "metadata": {},
   "source": [
    "#### Attack "
   ]
  },
  {
   "cell_type": "code",
   "execution_count": null,
   "metadata": {},
   "outputs": [
    {
     "name": "stdout",
     "output_type": "stream",
     "text": [
      "------------attack_baseline------------\n",
      "attack_A: 19.1\n",
      "attack_B: 21.0\n",
      "attack_C: 3.4\n",
      "attack_AB: 6.1\n",
      "attack_AC: 2.1\n",
      "attack_BC: 1.6\n",
      "attack_ABC: 1.1\n",
      "------------attack_baseline------------\n",
      "attack_A: 16.4\n",
      "attack_B: 10.2\n",
      "attack_C: 0.9\n",
      "attack_AB: 5.2\n",
      "attack_AC: 1.0\n",
      "attack_BC: 0.5\n",
      "attack_ABC: 0.4\n",
      "------------attack_baseline------------\n",
      "attack_A: 11.0\n",
      "attack_B: 18.3\n",
      "attack_C: 2.5\n",
      "attack_AB: 5.3\n",
      "attack_AC: 1.2\n",
      "attack_BC: 1.1\n",
      "attack_ABC: 0.9\n"
     ]
    }
   ],
   "source": [
    "import ast\n",
    "import glob\n",
    "\n",
    "def get_out_of_ADE(analysis):\n",
    "    out = glob.glob(f'/hhd3/ld/painter_output/ade20k/{analysis}/PGD10_2/*/output/eval_ade20k_default/results.txt')\n",
    "\n",
    "    outdict = {}\n",
    "\n",
    "    print(f'------------ade20k: {analysis}------------')\n",
    "    for i in out:\n",
    "        id = i.split('/')[-4]\n",
    "        # print(id)\n",
    "        with open(i, 'r') as f:\n",
    "            lines = f.readlines()\n",
    "            for line in lines:\n",
    "                if 'OrderedDict' in line:\n",
    "                    pass\n",
    "                else:\n",
    "                    d = ast.literal_eval(line)\n",
    "                    # print(d)\n",
    "                    # print(f'{id}:' +  str(round(d['mIoU'], 1)))\n",
    "                    outdict[id] = round(d['mIoU'], 1)\n",
    "\n",
    "    for i in ['attack_A', 'attack_B', 'attack_C', 'attack_AB', 'attack_AC', 'attack_BC', 'attack_ABC']:\n",
    "        print(f'{i}: {outdict[i]}')\n",
    "\n",
    "\n",
    "# for ANALYSIS in ['attack_baseline', 'attack_baseline_changeA', 'attack_baseline_changeB']:\n",
    "for ANALYSIS in ['attack_baseline_ep2']:\n",
    "    get_out_of_ADE(ANALYSIS)\n"
   ]
  },
  {
   "cell_type": "code",
   "execution_count": 15,
   "metadata": {},
   "outputs": [
    {
     "data": {
      "text/plain": [
       "['POS_A_mask_A',\n",
       " 'POS_B_mask_B',\n",
       " 'POS_AB_mask_AB',\n",
       " 'POS_A_random_A_same_task',\n",
       " 'POS_A_random_A_other_task',\n",
       " 'POS_B_random_B_same_task',\n",
       " 'POS_B_random_B_other_task',\n",
       " 'POS_A_animeGAN_A',\n",
       " 'POS_B_animeGAN_B',\n",
       " 'POS_AB_animeGAN_AB']"
      ]
     },
     "execution_count": 15,
     "metadata": {},
     "output_type": "execute_result"
    }
   ],
   "source": [
    "'POS_A_mask_A POS_B_mask_B POS_AB_mask_AB POS_A_random_A_same_task POS_A_random_A_other_task POS_B_random_B_same_task POS_B_random_B_other_task POS_A_animeGAN_A POS_B_animeGAN_B POS_AB_animeGAN_AB'.split()"
   ]
  },
  {
   "cell_type": "code",
   "execution_count": 4,
   "metadata": {},
   "outputs": [
    {
     "name": "stdout",
     "output_type": "stream",
     "text": [
      "------------ade20k: attack_ours_l2------------\n",
      "attack_AC\n",
      "attack_ABC\n",
      "attack_BC\n",
      "none\n",
      "attack_A\n",
      "attack_AB\n",
      "attack_B\n",
      "attack_C\n"
     ]
    }
   ],
   "source": [
    "import ast\n",
    "import glob\n",
    "\n",
    "def get_out_of_ADE(analysis):\n",
    "    out = glob.glob(f'/hhd3/ld/painter_output/ade20k/{analysis}/PGD10_8/*/output/eval_ade20k_default/results.txt')\n",
    "\n",
    "    outdict = {}\n",
    "\n",
    "    print(f'------------ade20k: {analysis}------------')\n",
    "    for i in out:\n",
    "        id = i.split('/')[-4]\n",
    "        print(id)\n",
    "        with open(i, 'r') as f:\n",
    "            lines = f.readlines()\n",
    "            for line in lines:\n",
    "                if 'OrderedDict' in line:\n",
    "                    pass\n",
    "    #             else:\n",
    "    #                 d = ast.literal_eval(line)\n",
    "    #                 # print(d)\n",
    "    #                 # print(f'{id}:' +  str(round(d['mIoU'], 1)))\n",
    "    #                 outdict[id] = round(d['mIoU'], 1)\n",
    "\n",
    "    # for i in ['attack_A', 'attack_B', 'attack_C', 'attack_AB', 'attack_AC', 'attack_BC', 'attack_ABC']:\n",
    "    #     if i in outdict:\n",
    "    #         print(f'{i}: {outdict[i]}')\n",
    "\n",
    "for ANALYSIS in ['attack_ours_l2']:\n",
    "    get_out_of_ADE(ANALYSIS)"
   ]
  },
  {
   "cell_type": "code",
   "execution_count": null,
   "metadata": {},
   "outputs": [],
   "source": []
  }
 ],
 "metadata": {
  "kernelspec": {
   "display_name": "painter",
   "language": "python",
   "name": "python3"
  },
  "language_info": {
   "codemirror_mode": {
    "name": "ipython",
    "version": 3
   },
   "file_extension": ".py",
   "mimetype": "text/x-python",
   "name": "python",
   "nbconvert_exporter": "python",
   "pygments_lexer": "ipython3",
   "version": "3.8.16"
  },
  "orig_nbformat": 4
 },
 "nbformat": 4,
 "nbformat_minor": 2
}
